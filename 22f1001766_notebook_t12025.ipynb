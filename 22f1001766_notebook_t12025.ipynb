{
  "metadata": {
    "kernelspec": {
      "language": "python",
      "display_name": "Python 3",
      "name": "python3"
    },
    "language_info": {
      "name": "python",
      "version": "3.10.12",
      "mimetype": "text/x-python",
      "codemirror_mode": {
        "name": "ipython",
        "version": 3
      },
      "pygments_lexer": "ipython3",
      "nbconvert_exporter": "python",
      "file_extension": ".py"
    },
    "kaggle": {
      "accelerator": "none",
      "dataSources": [
        {
          "sourceId": 90791,
          "databundleVersionId": 10592855,
          "sourceType": "competition"
        }
      ],
      "dockerImageVersionId": 30839,
      "isInternetEnabled": false,
      "language": "python",
      "sourceType": "notebook",
      "isGpuEnabled": false
    },
    "colab": {
      "name": "22f1001766-notebook-t12025",
      "provenance": []
    }
  },
  "nbformat_minor": 0,
  "nbformat": 4,
  "cells": [
    {
      "source": [
        "# IMPORTANT: SOME KAGGLE DATA SOURCES ARE PRIVATE\n",
        "# RUN THIS CELL IN ORDER TO IMPORT YOUR KAGGLE DATA SOURCES.\n",
        "import kagglehub\n",
        "kagglehub.login()\n"
      ],
      "metadata": {
        "id": "lAeFzeV60474"
      },
      "cell_type": "code",
      "outputs": [],
      "execution_count": null
    },
    {
      "source": [
        "# IMPORTANT: RUN THIS CELL IN ORDER TO IMPORT YOUR KAGGLE DATA SOURCES,\n",
        "# THEN FEEL FREE TO DELETE THIS CELL.\n",
        "# NOTE: THIS NOTEBOOK ENVIRONMENT DIFFERS FROM KAGGLE'S PYTHON\n",
        "# ENVIRONMENT SO THERE MAY BE MISSING LIBRARIES USED BY YOUR\n",
        "# NOTEBOOK.\n",
        "\n",
        "system_threat_forecaster_path = kagglehub.competition_download('System-Threat-Forecaster')\n",
        "\n",
        "print('Data source import complete.')\n"
      ],
      "metadata": {
        "id": "2luCDb3L048B"
      },
      "cell_type": "code",
      "outputs": [],
      "execution_count": null
    },
    {
      "cell_type": "code",
      "source": [
        "import pandas as pd\n",
        "import numpy as np\n",
        "import matplotlib.pyplot as plt\n",
        "import seaborn as sns\n",
        "from sklearn.compose import ColumnTransformer\n",
        "from sklearn.preprocessing import OneHotEncoder, LabelEncoder, StandardScaler, MinMaxScaler, OrdinalEncoder\n",
        "from sklearn.pipeline import Pipeline, make_pipeline\n",
        "from sklearn.impute import SimpleImputer\n",
        "from sklearn.model_selection import train_test_split, GridSearchCV, RandomizedSearchCV\n",
        "from sklearn.metrics import accuracy_score, confusion_matrix, classification_report\n",
        "from sklearn.ensemble import RandomForestClassifier, VotingClassifier, StackingClassifier\n",
        "from sklearn.linear_model import LogisticRegression, RidgeClassifier, SGDClassifier\n",
        "from sklearn.tree import DecisionTreeClassifier\n",
        "import lightgbm as lgb\n",
        "from lightgbm import LGBMClassifier"
      ],
      "metadata": {
        "_uuid": "8f2839f25d086af736a60e9eeb907d3b93b6e0e5",
        "_cell_guid": "b1076dfc-b9ad-4769-8c92-a6c4dae69d19",
        "trusted": true,
        "execution": {
          "iopub.status.busy": "2025-03-20T11:24:13.36589Z",
          "iopub.execute_input": "2025-03-20T11:24:13.366251Z",
          "iopub.status.idle": "2025-03-20T11:24:18.827827Z",
          "shell.execute_reply.started": "2025-03-20T11:24:13.366224Z",
          "shell.execute_reply": "2025-03-20T11:24:18.826564Z"
        },
        "id": "66APirRw048G"
      },
      "outputs": [],
      "execution_count": null
    },
    {
      "cell_type": "markdown",
      "source": [
        "Loading train data"
      ],
      "metadata": {
        "id": "MYq5bCOo048I"
      }
    },
    {
      "cell_type": "code",
      "source": [
        "train_data = pd.read_csv('/kaggle/input/System-Threat-Forecaster/train.csv')\n",
        "train_data.shape"
      ],
      "metadata": {
        "trusted": true,
        "execution": {
          "iopub.status.busy": "2025-03-20T11:24:18.829622Z",
          "iopub.execute_input": "2025-03-20T11:24:18.830415Z",
          "iopub.status.idle": "2025-03-20T11:24:21.073158Z",
          "shell.execute_reply.started": "2025-03-20T11:24:18.830363Z",
          "shell.execute_reply": "2025-03-20T11:24:21.072138Z"
        },
        "id": "2BPzOsN7048M"
      },
      "outputs": [],
      "execution_count": null
    },
    {
      "cell_type": "markdown",
      "source": [
        "Loading Test data"
      ],
      "metadata": {
        "id": "qzqnX4Kl048O"
      }
    },
    {
      "cell_type": "code",
      "source": [
        "test_data = pd.read_csv('/kaggle/input/System-Threat-Forecaster/test.csv')\n",
        "test_data.shape"
      ],
      "metadata": {
        "trusted": true,
        "execution": {
          "iopub.status.busy": "2025-03-20T11:24:21.07566Z",
          "iopub.execute_input": "2025-03-20T11:24:21.076093Z",
          "iopub.status.idle": "2025-03-20T11:24:21.343216Z",
          "shell.execute_reply.started": "2025-03-20T11:24:21.076045Z",
          "shell.execute_reply": "2025-03-20T11:24:21.341871Z"
        },
        "id": "5dRswHMc048Q"
      },
      "outputs": [],
      "execution_count": null
    },
    {
      "cell_type": "markdown",
      "source": [
        "# EDA"
      ],
      "metadata": {
        "id": "-3-C1rJs048T"
      }
    },
    {
      "cell_type": "code",
      "source": [
        "train_data.info()"
      ],
      "metadata": {
        "trusted": true,
        "execution": {
          "iopub.status.busy": "2025-03-20T11:24:21.344877Z",
          "iopub.execute_input": "2025-03-20T11:24:21.345177Z",
          "iopub.status.idle": "2025-03-20T11:24:21.536231Z",
          "shell.execute_reply.started": "2025-03-20T11:24:21.345152Z",
          "shell.execute_reply": "2025-03-20T11:24:21.534998Z"
        },
        "id": "E1fGQkB5048V"
      },
      "outputs": [],
      "execution_count": null
    },
    {
      "cell_type": "code",
      "source": [
        "train_null_percent=train_data.isnull().sum() / len(train_data) * 100\n",
        "train_null_percent"
      ],
      "metadata": {
        "trusted": true,
        "execution": {
          "iopub.status.busy": "2025-03-20T11:24:21.53743Z",
          "iopub.execute_input": "2025-03-20T11:24:21.537729Z",
          "iopub.status.idle": "2025-03-20T11:24:21.701578Z",
          "shell.execute_reply.started": "2025-03-20T11:24:21.537703Z",
          "shell.execute_reply": "2025-03-20T11:24:21.700239Z"
        },
        "id": "K4IjCl3t048Y"
      },
      "outputs": [],
      "execution_count": null
    },
    {
      "cell_type": "code",
      "source": [
        "test_null_percent=test_data.isnull().sum() / len(test_data) * 100\n",
        "test_null_percent"
      ],
      "metadata": {
        "trusted": true,
        "execution": {
          "iopub.status.busy": "2025-03-20T11:24:21.702595Z",
          "iopub.execute_input": "2025-03-20T11:24:21.702884Z",
          "iopub.status.idle": "2025-03-20T11:24:21.731271Z",
          "shell.execute_reply.started": "2025-03-20T11:24:21.702862Z",
          "shell.execute_reply": "2025-03-20T11:24:21.73017Z"
        },
        "id": "BLAA53Dj048Z"
      },
      "outputs": [],
      "execution_count": null
    },
    {
      "cell_type": "markdown",
      "source": [
        "For above two cells we can infer that the, percentage of missing values in each feature is very negligible(below 1%)\n",
        "**No let us look at each feature separately**"
      ],
      "metadata": {
        "id": "k9uYF-bS048a"
      }
    },
    {
      "cell_type": "code",
      "source": [
        "train_data['MachineID'].nunique()"
      ],
      "metadata": {
        "trusted": true,
        "execution": {
          "iopub.status.busy": "2025-03-20T11:24:21.732441Z",
          "iopub.execute_input": "2025-03-20T11:24:21.732765Z",
          "iopub.status.idle": "2025-03-20T11:24:21.773071Z",
          "shell.execute_reply.started": "2025-03-20T11:24:21.732729Z",
          "shell.execute_reply": "2025-03-20T11:24:21.771801Z"
        },
        "id": "WljpD7gO048b"
      },
      "outputs": [],
      "execution_count": null
    },
    {
      "cell_type": "markdown",
      "source": [
        "Feature MachineID contains 99835 distinct values, so it is not helpfull"
      ],
      "metadata": {
        "id": "LeIfDPJ2048d"
      }
    },
    {
      "cell_type": "code",
      "source": [
        "train_data['ProductName'].value_counts()"
      ],
      "metadata": {
        "trusted": true,
        "execution": {
          "iopub.status.busy": "2025-03-20T11:24:21.774143Z",
          "iopub.execute_input": "2025-03-20T11:24:21.774492Z",
          "iopub.status.idle": "2025-03-20T11:24:21.79105Z",
          "shell.execute_reply.started": "2025-03-20T11:24:21.774463Z",
          "shell.execute_reply": "2025-03-20T11:24:21.789845Z"
        },
        "id": "N_sp6t9D048d"
      },
      "outputs": [],
      "execution_count": null
    },
    {
      "cell_type": "code",
      "source": [
        "train_data['ProductName'].value_counts().plot(kind='barh', color='skyblue')\n",
        "\n",
        "# Display the plot\n",
        "plt.title('Distribution of ProductName feature')\n",
        "plt.xlabel('ProductName')\n",
        "plt.ylabel('Count')\n",
        "plt.show()"
      ],
      "metadata": {
        "trusted": true,
        "execution": {
          "iopub.status.busy": "2025-03-20T11:24:21.794948Z",
          "iopub.execute_input": "2025-03-20T11:24:21.795255Z",
          "iopub.status.idle": "2025-03-20T11:24:22.143744Z",
          "shell.execute_reply.started": "2025-03-20T11:24:21.795229Z",
          "shell.execute_reply": "2025-03-20T11:24:22.142522Z"
        },
        "id": "PZpazYQD048e"
      },
      "outputs": [],
      "execution_count": null
    },
    {
      "cell_type": "markdown",
      "source": [
        "This ProductName feature has highly imbalanced binary values where win8defender is contributing maximum of the data  "
      ],
      "metadata": {
        "id": "IALiWGOP048f"
      }
    },
    {
      "cell_type": "code",
      "source": [
        "train_data['EngineVersion'].nunique()"
      ],
      "metadata": {
        "trusted": true,
        "execution": {
          "iopub.status.busy": "2025-03-20T11:24:22.145569Z",
          "iopub.execute_input": "2025-03-20T11:24:22.145889Z",
          "iopub.status.idle": "2025-03-20T11:24:22.157635Z",
          "shell.execute_reply.started": "2025-03-20T11:24:22.14586Z",
          "shell.execute_reply": "2025-03-20T11:24:22.156686Z"
        },
        "id": "_kl33efE048g"
      },
      "outputs": [],
      "execution_count": null
    },
    {
      "cell_type": "code",
      "source": [
        "top_4 = train_data['EngineVersion'].value_counts().head(4)\n",
        "other_count = train_data['EngineVersion'].value_counts().iloc[4:].sum()\n",
        "top_5 = pd.concat([top_4,pd.Series({'Other': other_count})])\n",
        "\n",
        "top_5.plot(kind='barh', color='skyblue')\n",
        "plt.title('Distribution of EngineVersion')\n",
        "plt.xlabel('Count')\n",
        "plt.ylabel('EngineVersion')\n",
        "plt.show()\n"
      ],
      "metadata": {
        "trusted": true,
        "execution": {
          "iopub.status.busy": "2025-03-20T11:24:22.158559Z",
          "iopub.execute_input": "2025-03-20T11:24:22.158864Z",
          "iopub.status.idle": "2025-03-20T11:24:22.359856Z",
          "shell.execute_reply.started": "2025-03-20T11:24:22.158838Z",
          "shell.execute_reply": "2025-03-20T11:24:22.358566Z"
        },
        "id": "oHuBgCwo048g"
      },
      "outputs": [],
      "execution_count": null
    },
    {
      "cell_type": "markdown",
      "source": [
        "The **EngineVersion** features looks good with 37 distinct values ans well distributed"
      ],
      "metadata": {
        "id": "jbDqe5dl048h"
      }
    },
    {
      "cell_type": "code",
      "source": [
        "train_data['AppVersion'].value_counts()"
      ],
      "metadata": {
        "trusted": true,
        "execution": {
          "iopub.status.busy": "2025-03-20T11:24:22.360977Z",
          "iopub.execute_input": "2025-03-20T11:24:22.361332Z",
          "iopub.status.idle": "2025-03-20T11:24:22.378818Z",
          "shell.execute_reply.started": "2025-03-20T11:24:22.361303Z",
          "shell.execute_reply": "2025-03-20T11:24:22.377588Z"
        },
        "id": "zvcS_Ll9048h"
      },
      "outputs": [],
      "execution_count": null
    },
    {
      "cell_type": "code",
      "source": [
        "top_4 = train_data['AppVersion'].value_counts().head(4)\n",
        "other_count = train_data['AppVersion'].value_counts().iloc[4:].sum()\n",
        "top_5 = pd.concat([top_4,pd.Series({'Other': other_count})])\n",
        "\n",
        "top_5.plot(kind='barh', color='skyblue')\n",
        "plt.title('Distribution of AppVersion')\n",
        "plt.xlabel('Count')\n",
        "plt.ylabel('AppVersion')\n",
        "plt.show()"
      ],
      "metadata": {
        "trusted": true,
        "execution": {
          "iopub.status.busy": "2025-03-20T11:24:22.379877Z",
          "iopub.execute_input": "2025-03-20T11:24:22.380305Z",
          "iopub.status.idle": "2025-03-20T11:24:22.589148Z",
          "shell.execute_reply.started": "2025-03-20T11:24:22.380264Z",
          "shell.execute_reply": "2025-03-20T11:24:22.587975Z"
        },
        "id": "9tVvZLbv048i"
      },
      "outputs": [],
      "execution_count": null
    },
    {
      "cell_type": "markdown",
      "source": [
        "The **AppVersion** feature also looks well with 69 distinct values and can be usefull"
      ],
      "metadata": {
        "id": "UGDjfDge048j"
      }
    },
    {
      "cell_type": "code",
      "source": [
        "train_data['SignatureVersion'].value_counts()"
      ],
      "metadata": {
        "trusted": true,
        "execution": {
          "iopub.status.busy": "2025-03-20T11:24:22.589991Z",
          "iopub.execute_input": "2025-03-20T11:24:22.590279Z",
          "iopub.status.idle": "2025-03-20T11:24:22.610609Z",
          "shell.execute_reply.started": "2025-03-20T11:24:22.590256Z",
          "shell.execute_reply": "2025-03-20T11:24:22.609395Z"
        },
        "id": "MSPCkSLd048j"
      },
      "outputs": [],
      "execution_count": null
    },
    {
      "cell_type": "code",
      "source": [
        "top_4 = train_data['SignatureVersion'].value_counts().head(4)\n",
        "other_count = train_data['SignatureVersion'].value_counts().iloc[4:].sum()\n",
        "\n",
        "top_5 = pd.concat([top_4, pd.Series({'Other': other_count})])\n",
        "top_5.plot(kind='barh', color='skyblue', edgecolor='black')\n",
        "\n",
        "plt.title('Distribution of SignatureVersion')\n",
        "plt.ylabel('SignatureVersion')\n",
        "plt.xlabel('Count')\n",
        "plt.xticks(rotation=45)\n",
        "plt.show()"
      ],
      "metadata": {
        "trusted": true,
        "execution": {
          "iopub.status.busy": "2025-03-20T11:24:22.611618Z",
          "iopub.execute_input": "2025-03-20T11:24:22.61193Z",
          "iopub.status.idle": "2025-03-20T11:24:22.849539Z",
          "shell.execute_reply.started": "2025-03-20T11:24:22.611906Z",
          "shell.execute_reply": "2025-03-20T11:24:22.8482Z"
        },
        "id": "9LsQgfbL048k"
      },
      "outputs": [],
      "execution_count": null
    },
    {
      "cell_type": "markdown",
      "source": [
        "The feature SignatureVersion has 2735 distinct values. Being a categorical feature with high cardinality it will be diffucult to deal with it, so we may ignore it."
      ],
      "metadata": {
        "id": "SDj4Jklw048l"
      }
    },
    {
      "cell_type": "code",
      "source": [
        "train_data['IsBetaUser'].value_counts()"
      ],
      "metadata": {
        "trusted": true,
        "execution": {
          "iopub.status.busy": "2025-03-20T11:24:22.850234Z",
          "iopub.execute_input": "2025-03-20T11:24:22.850561Z",
          "iopub.status.idle": "2025-03-20T11:24:22.860535Z",
          "shell.execute_reply.started": "2025-03-20T11:24:22.850533Z",
          "shell.execute_reply": "2025-03-20T11:24:22.859186Z"
        },
        "id": "CkGgilSl048m"
      },
      "outputs": [],
      "execution_count": null
    },
    {
      "cell_type": "markdown",
      "source": [
        "IsBetaUser feature has only one value throughout the dataset. So this is useless feature."
      ],
      "metadata": {
        "id": "be8vm0TU048m"
      }
    },
    {
      "cell_type": "code",
      "source": [
        "train_data['RealTimeProtectionState'].value_counts()"
      ],
      "metadata": {
        "trusted": true,
        "execution": {
          "iopub.status.busy": "2025-03-20T11:24:22.861401Z",
          "iopub.execute_input": "2025-03-20T11:24:22.86172Z",
          "iopub.status.idle": "2025-03-20T11:24:22.887452Z",
          "shell.execute_reply.started": "2025-03-20T11:24:22.861693Z",
          "shell.execute_reply": "2025-03-20T11:24:22.886252Z"
        },
        "id": "rQcmgE25048n"
      },
      "outputs": [],
      "execution_count": null
    },
    {
      "cell_type": "code",
      "source": [
        "top_4 = train_data['RealTimeProtectionState'].value_counts().head(4)\n",
        "other_count = train_data['RealTimeProtectionState'].value_counts().iloc[4:].sum()\n",
        "\n",
        "top_5 = pd.concat([top_4, pd.Series({'Other': other_count})])\n",
        "top_5.plot(kind='barh', color='skyblue', edgecolor='black')\n",
        "\n",
        "plt.title('Distribution of RealTimeProtectionState')\n",
        "plt.ylabel('RealTimeProtectionState')\n",
        "plt.xlabel('Count')\n",
        "plt.xticks(rotation=45)\n",
        "plt.show()"
      ],
      "metadata": {
        "trusted": true,
        "execution": {
          "iopub.status.busy": "2025-03-20T11:24:22.888526Z",
          "iopub.execute_input": "2025-03-20T11:24:22.888944Z",
          "iopub.status.idle": "2025-03-20T11:24:23.082574Z",
          "shell.execute_reply.started": "2025-03-20T11:24:22.888902Z",
          "shell.execute_reply": "2025-03-20T11:24:23.08147Z"
        },
        "id": "etJHU10J048o"
      },
      "outputs": [],
      "execution_count": null
    },
    {
      "cell_type": "code",
      "source": [
        "train_data['IsPassiveModeEnabled'].value_counts()"
      ],
      "metadata": {
        "trusted": true,
        "execution": {
          "iopub.status.busy": "2025-03-20T11:24:23.083658Z",
          "iopub.execute_input": "2025-03-20T11:24:23.083948Z",
          "iopub.status.idle": "2025-03-20T11:24:23.093163Z",
          "shell.execute_reply.started": "2025-03-20T11:24:23.083923Z",
          "shell.execute_reply": "2025-03-20T11:24:23.091688Z"
        },
        "id": "7Ekp7Thq048o"
      },
      "outputs": [],
      "execution_count": null
    },
    {
      "cell_type": "code",
      "source": [
        "train_data['IsPassiveModeEnabled'].value_counts().plot(kind='barh', color='skyblue', edgecolor='black')\n",
        "\n",
        "plt.title('Distribution of IsPassiveModeEnabled')\n",
        "plt.ylabel('IsPassiveModeEnabled')\n",
        "plt.xlabel('Count')\n",
        "plt.xticks(rotation=45)\n",
        "plt.show()"
      ],
      "metadata": {
        "trusted": true,
        "execution": {
          "iopub.status.busy": "2025-03-20T11:24:23.094689Z",
          "iopub.execute_input": "2025-03-20T11:24:23.095235Z",
          "iopub.status.idle": "2025-03-20T11:24:23.280821Z",
          "shell.execute_reply.started": "2025-03-20T11:24:23.095165Z",
          "shell.execute_reply": "2025-03-20T11:24:23.27955Z"
        },
        "id": "54qP3AHk048q"
      },
      "outputs": [],
      "execution_count": null
    },
    {
      "cell_type": "markdown",
      "source": [
        "IsPassiveModeEnabled is a binary feature which can be usefull"
      ],
      "metadata": {
        "id": "RP18z-Y0048r"
      }
    },
    {
      "cell_type": "code",
      "source": [
        "train_data['AntivirusConfigID'].value_counts()"
      ],
      "metadata": {
        "trusted": true,
        "execution": {
          "iopub.status.busy": "2025-03-20T11:24:23.281994Z",
          "iopub.execute_input": "2025-03-20T11:24:23.282859Z",
          "iopub.status.idle": "2025-03-20T11:24:23.299386Z",
          "shell.execute_reply.started": "2025-03-20T11:24:23.282819Z",
          "shell.execute_reply": "2025-03-20T11:24:23.298069Z"
        },
        "id": "XqS-q808048s"
      },
      "outputs": [],
      "execution_count": null
    },
    {
      "cell_type": "code",
      "source": [
        "top_4 = train_data['AntivirusConfigID'].value_counts().head(4)\n",
        "other_count = train_data['AntivirusConfigID'].value_counts().iloc[4:].sum()\n",
        "\n",
        "top_5 = pd.concat([top_4, pd.Series({'Other': other_count})])\n",
        "top_5.plot(kind='barh', color='skyblue', edgecolor='black')\n",
        "\n",
        "plt.title('Distribution of AntivirusConfigID')\n",
        "plt.ylabel('AntivirusConfigID')\n",
        "plt.xlabel('Count')\n",
        "plt.xticks(rotation=45)\n",
        "plt.show()"
      ],
      "metadata": {
        "trusted": true,
        "execution": {
          "iopub.status.busy": "2025-03-20T11:24:23.301014Z",
          "iopub.execute_input": "2025-03-20T11:24:23.301506Z",
          "iopub.status.idle": "2025-03-20T11:24:23.527693Z",
          "shell.execute_reply.started": "2025-03-20T11:24:23.301451Z",
          "shell.execute_reply": "2025-03-20T11:24:23.526671Z"
        },
        "id": "JeaVzjxP048t"
      },
      "outputs": [],
      "execution_count": null
    },
    {
      "cell_type": "markdown",
      "source": [
        "With most frequent value contibuting more than 50% of the dataset, this feature (AntivirusConfigID) may not be usefull"
      ],
      "metadata": {
        "id": "S0O-_yjs048t"
      }
    },
    {
      "cell_type": "code",
      "source": [
        "train_data['NumAntivirusProductsInstalled'].value_counts()"
      ],
      "metadata": {
        "trusted": true,
        "execution": {
          "iopub.status.busy": "2025-03-20T11:24:23.52878Z",
          "iopub.execute_input": "2025-03-20T11:24:23.529072Z",
          "iopub.status.idle": "2025-03-20T11:24:23.538802Z",
          "shell.execute_reply.started": "2025-03-20T11:24:23.529046Z",
          "shell.execute_reply": "2025-03-20T11:24:23.537608Z"
        },
        "id": "g8UtlXUq048u"
      },
      "outputs": [],
      "execution_count": null
    },
    {
      "cell_type": "code",
      "source": [
        "train_data['NumAntivirusProductsInstalled'].value_counts().plot(kind='barh', color='skyblue', edgecolor='black')\n",
        "\n",
        "plt.title('Distribution of NumAntivirusProductsInstalled')\n",
        "plt.ylabel('NumAntivirusProductsInstalled')\n",
        "plt.xlabel('Count')\n",
        "plt.xticks(rotation=45)\n",
        "plt.show()"
      ],
      "metadata": {
        "trusted": true,
        "execution": {
          "iopub.status.busy": "2025-03-20T11:24:23.539745Z",
          "iopub.execute_input": "2025-03-20T11:24:23.540061Z",
          "iopub.status.idle": "2025-03-20T11:24:23.74473Z",
          "shell.execute_reply.started": "2025-03-20T11:24:23.540033Z",
          "shell.execute_reply": "2025-03-20T11:24:23.743504Z"
        },
        "id": "XBdqAXHk048v"
      },
      "outputs": [],
      "execution_count": null
    },
    {
      "cell_type": "code",
      "source": [
        "train_data['NumAntivirusProductsEnabled'].value_counts()"
      ],
      "metadata": {
        "trusted": true,
        "execution": {
          "iopub.status.busy": "2025-03-20T11:24:23.745869Z",
          "iopub.execute_input": "2025-03-20T11:24:23.746175Z",
          "iopub.status.idle": "2025-03-20T11:24:23.756209Z",
          "shell.execute_reply.started": "2025-03-20T11:24:23.746147Z",
          "shell.execute_reply": "2025-03-20T11:24:23.755184Z"
        },
        "id": "v7Djz7he048v"
      },
      "outputs": [],
      "execution_count": null
    },
    {
      "cell_type": "code",
      "source": [
        "train_data['NumAntivirusProductsEnabled'].value_counts().plot(kind='barh', color='skyblue', edgecolor='black')\n",
        "\n",
        "plt.title('Distribution of NumAntivirusProductsEnabled')\n",
        "plt.ylabel('NumAntivirusProductsEnabled')\n",
        "plt.xlabel('Count')\n",
        "plt.xticks(rotation=45)\n",
        "plt.show()"
      ],
      "metadata": {
        "trusted": true,
        "execution": {
          "iopub.status.busy": "2025-03-20T11:24:23.757488Z",
          "iopub.execute_input": "2025-03-20T11:24:23.757877Z",
          "iopub.status.idle": "2025-03-20T11:24:23.945401Z",
          "shell.execute_reply.started": "2025-03-20T11:24:23.75783Z",
          "shell.execute_reply": "2025-03-20T11:24:23.94424Z"
        },
        "id": "EXGSSWvA049c"
      },
      "outputs": [],
      "execution_count": null
    },
    {
      "cell_type": "markdown",
      "source": [
        "With nearly 70% of the values of NumAntivirusProductsInstalled and 98% of values of NumAntivirusProductsEnabled being have only some particular value, these features are feature is extremely biased. so better we will not considert them"
      ],
      "metadata": {
        "id": "tOQtbXpk049e"
      }
    },
    {
      "cell_type": "code",
      "source": [
        "train_data['HasTpm'].value_counts()"
      ],
      "metadata": {
        "trusted": true,
        "execution": {
          "iopub.status.busy": "2025-03-20T11:24:23.951978Z",
          "iopub.execute_input": "2025-03-20T11:24:23.952337Z",
          "iopub.status.idle": "2025-03-20T11:24:23.961232Z",
          "shell.execute_reply.started": "2025-03-20T11:24:23.952309Z",
          "shell.execute_reply": "2025-03-20T11:24:23.959924Z"
        },
        "id": "y4zULxrF049f"
      },
      "outputs": [],
      "execution_count": null
    },
    {
      "cell_type": "code",
      "source": [
        "train_data['HasTpm'].value_counts().plot(kind='barh', color='skyblue', edgecolor='black')\n",
        "\n",
        "plt.title('Distribution of HasTpm')\n",
        "plt.ylabel('HasTpm')\n",
        "plt.xlabel('Count')\n",
        "plt.xticks(rotation=45)\n",
        "plt.show()"
      ],
      "metadata": {
        "trusted": true,
        "execution": {
          "iopub.status.busy": "2025-03-20T11:24:23.96395Z",
          "iopub.execute_input": "2025-03-20T11:24:23.964388Z",
          "iopub.status.idle": "2025-03-20T11:24:24.130313Z",
          "shell.execute_reply.started": "2025-03-20T11:24:23.964323Z",
          "shell.execute_reply": "2025-03-20T11:24:24.128993Z"
        },
        "id": "bI4gQQxM049g"
      },
      "outputs": [],
      "execution_count": null
    },
    {
      "cell_type": "markdown",
      "source": [
        "The binary feature HasTpm is extremly dominated by the value 1. This suggests the feature is almost constant, with only a small number of instances having the value 0. So we will not consider this feature."
      ],
      "metadata": {
        "id": "vc_Jezz7049h"
      }
    },
    {
      "cell_type": "code",
      "source": [
        "train_data['CountryID'].value_counts()"
      ],
      "metadata": {
        "trusted": true,
        "execution": {
          "iopub.status.busy": "2025-03-20T11:24:24.131484Z",
          "iopub.execute_input": "2025-03-20T11:24:24.131827Z",
          "iopub.status.idle": "2025-03-20T11:24:24.140752Z",
          "shell.execute_reply.started": "2025-03-20T11:24:24.131798Z",
          "shell.execute_reply": "2025-03-20T11:24:24.139706Z"
        },
        "id": "6oUQCnWO049i"
      },
      "outputs": [],
      "execution_count": null
    },
    {
      "cell_type": "code",
      "source": [
        "top_9 = train_data['CountryID'].value_counts().head(9)\n",
        "other_count = train_data['CountryID'].value_counts().iloc[9:].sum()\n",
        "\n",
        "top_10 = pd.concat([top_9, pd.Series({'Other': other_count})])\n",
        "top_10.plot(kind='barh', color='skyblue', edgecolor='black')\n",
        "\n",
        "plt.title('Distribution of CountryID')\n",
        "plt.ylabel('CountryID')\n",
        "plt.xlabel('Count')\n",
        "plt.xticks(rotation=45)\n",
        "plt.show()"
      ],
      "metadata": {
        "trusted": true,
        "execution": {
          "iopub.status.busy": "2025-03-20T11:24:24.141782Z",
          "iopub.execute_input": "2025-03-20T11:24:24.142138Z",
          "iopub.status.idle": "2025-03-20T11:24:24.388257Z",
          "shell.execute_reply.started": "2025-03-20T11:24:24.14211Z",
          "shell.execute_reply": "2025-03-20T11:24:24.386966Z"
        },
        "id": "hGkNnFfA049j"
      },
      "outputs": [],
      "execution_count": null
    },
    {
      "cell_type": "markdown",
      "source": [
        "This feature seems to be well distributed and can be usefull"
      ],
      "metadata": {
        "id": "m4loCxEw049j"
      }
    },
    {
      "cell_type": "code",
      "source": [
        "train_data['CityID'].value_counts()"
      ],
      "metadata": {
        "trusted": true,
        "execution": {
          "iopub.status.busy": "2025-03-20T11:24:24.389418Z",
          "iopub.execute_input": "2025-03-20T11:24:24.38974Z",
          "iopub.status.idle": "2025-03-20T11:24:24.403167Z",
          "shell.execute_reply.started": "2025-03-20T11:24:24.389709Z",
          "shell.execute_reply": "2025-03-20T11:24:24.402065Z"
        },
        "id": "ocWcBvg9049k"
      },
      "outputs": [],
      "execution_count": null
    },
    {
      "cell_type": "code",
      "source": [
        "train_data['GeoRegionID'].value_counts()"
      ],
      "metadata": {
        "trusted": true,
        "execution": {
          "iopub.status.busy": "2025-03-20T11:24:24.404622Z",
          "iopub.execute_input": "2025-03-20T11:24:24.405135Z",
          "iopub.status.idle": "2025-03-20T11:24:24.426051Z",
          "shell.execute_reply.started": "2025-03-20T11:24:24.405101Z",
          "shell.execute_reply": "2025-03-20T11:24:24.424559Z"
        },
        "id": "u8Ds8Nj2049k"
      },
      "outputs": [],
      "execution_count": null
    },
    {
      "cell_type": "code",
      "source": [
        "top_9 = train_data['GeoRegionID'].value_counts().head(9)\n",
        "other_count = train_data['GeoRegionID'].value_counts().iloc[9:].sum()\n",
        "\n",
        "top_10 = pd.concat([top_9, pd.Series({'Other': other_count})])\n",
        "top_10.plot(kind='barh', color='skyblue', edgecolor='black')\n",
        "\n",
        "plt.title('Distribution of GeoRegionID')\n",
        "plt.ylabel('GeoRegionID')\n",
        "plt.xlabel('Count')\n",
        "plt.xticks(rotation=45)\n",
        "plt.show()"
      ],
      "metadata": {
        "trusted": true,
        "execution": {
          "iopub.status.busy": "2025-03-20T11:24:24.427081Z",
          "iopub.execute_input": "2025-03-20T11:24:24.427418Z",
          "iopub.status.idle": "2025-03-20T11:24:24.665626Z",
          "shell.execute_reply.started": "2025-03-20T11:24:24.427373Z",
          "shell.execute_reply": "2025-03-20T11:24:24.66419Z"
        },
        "id": "HrZjlmqK049l"
      },
      "outputs": [],
      "execution_count": null
    },
    {
      "cell_type": "markdown",
      "source": [
        "With 16047 unique values, the feature CityID can be useless. moreover we can consider the feature GeoRegionID which will be more usefull."
      ],
      "metadata": {
        "id": "RbHzfcxd049l"
      }
    },
    {
      "cell_type": "code",
      "source": [
        "train_data['LocaleEnglishNameID'].value_counts()"
      ],
      "metadata": {
        "trusted": true,
        "execution": {
          "iopub.status.busy": "2025-03-20T11:24:24.666683Z",
          "iopub.execute_input": "2025-03-20T11:24:24.667007Z",
          "iopub.status.idle": "2025-03-20T11:24:24.678089Z",
          "shell.execute_reply.started": "2025-03-20T11:24:24.666979Z",
          "shell.execute_reply": "2025-03-20T11:24:24.676839Z"
        },
        "id": "t1IS1V6p049m"
      },
      "outputs": [],
      "execution_count": null
    },
    {
      "cell_type": "code",
      "source": [
        "top_9 = train_data['LocaleEnglishNameID'].value_counts().head(9)\n",
        "other_count = train_data['LocaleEnglishNameID'].value_counts().iloc[9:].sum()\n",
        "\n",
        "top_10 = pd.concat([top_9, pd.Series({'Other': other_count})])\n",
        "top_10.plot(kind='barh', color='skyblue', edgecolor='black')\n",
        "\n",
        "plt.title('Distribution of LocaleEnglishNameID')\n",
        "plt.ylabel('LocaleEnglishNameID')\n",
        "plt.xlabel('Count')\n",
        "plt.xticks(rotation=45)\n",
        "plt.show()"
      ],
      "metadata": {
        "trusted": true,
        "execution": {
          "iopub.status.busy": "2025-03-20T11:24:24.679234Z",
          "iopub.execute_input": "2025-03-20T11:24:24.679564Z",
          "iopub.status.idle": "2025-03-20T11:24:24.908032Z",
          "shell.execute_reply.started": "2025-03-20T11:24:24.679536Z",
          "shell.execute_reply": "2025-03-20T11:24:24.906962Z"
        },
        "id": "e-Bz7H4U049n"
      },
      "outputs": [],
      "execution_count": null
    },
    {
      "cell_type": "markdown",
      "source": [
        "The feature LocaleEnglishNameID with well distributed can be considered."
      ],
      "metadata": {
        "id": "ysseiPTD049p"
      }
    },
    {
      "cell_type": "code",
      "source": [
        "train_data['PlatformType'].value_counts()/len(train_data)*100"
      ],
      "metadata": {
        "trusted": true,
        "execution": {
          "iopub.status.busy": "2025-03-20T11:24:24.908981Z",
          "iopub.execute_input": "2025-03-20T11:24:24.909282Z",
          "iopub.status.idle": "2025-03-20T11:24:24.926075Z",
          "shell.execute_reply.started": "2025-03-20T11:24:24.909254Z",
          "shell.execute_reply": "2025-03-20T11:24:24.924769Z"
        },
        "id": "r6KHUBHT049p"
      },
      "outputs": [],
      "execution_count": null
    },
    {
      "cell_type": "code",
      "source": [
        "train_data['Processor'].value_counts()/len(train_data)*100"
      ],
      "metadata": {
        "trusted": true,
        "execution": {
          "iopub.status.busy": "2025-03-20T11:24:24.927137Z",
          "iopub.execute_input": "2025-03-20T11:24:24.927568Z",
          "iopub.status.idle": "2025-03-20T11:24:24.958201Z",
          "shell.execute_reply.started": "2025-03-20T11:24:24.927525Z",
          "shell.execute_reply": "2025-03-20T11:24:24.957012Z"
        },
        "id": "IiJAafOf049q"
      },
      "outputs": [],
      "execution_count": null
    },
    {
      "cell_type": "markdown",
      "source": [
        "With almost 98% of values in PlatformType feature are same, this features can be useless."
      ],
      "metadata": {
        "id": "drHtQ0_N049r"
      }
    },
    {
      "cell_type": "code",
      "source": [
        "train_data['OSVersion'].value_counts()"
      ],
      "metadata": {
        "trusted": true,
        "execution": {
          "iopub.status.busy": "2025-03-20T11:24:24.959083Z",
          "iopub.execute_input": "2025-03-20T11:24:24.959584Z",
          "iopub.status.idle": "2025-03-20T11:24:24.98961Z",
          "shell.execute_reply.started": "2025-03-20T11:24:24.959549Z",
          "shell.execute_reply": "2025-03-20T11:24:24.9884Z"
        },
        "id": "mRfZWLEa049t"
      },
      "outputs": [],
      "execution_count": null
    },
    {
      "cell_type": "code",
      "source": [
        "train_data['OSBuildNumber'].value_counts()"
      ],
      "metadata": {
        "trusted": true,
        "execution": {
          "iopub.status.busy": "2025-03-20T11:24:24.990684Z",
          "iopub.execute_input": "2025-03-20T11:24:24.990977Z",
          "iopub.status.idle": "2025-03-20T11:24:25.0184Z",
          "shell.execute_reply.started": "2025-03-20T11:24:24.990953Z",
          "shell.execute_reply": "2025-03-20T11:24:25.017178Z"
        },
        "id": "x0OjFtbW049u"
      },
      "outputs": [],
      "execution_count": null
    },
    {
      "cell_type": "code",
      "source": [
        "top_9 = train_data['OSBuildNumber'].value_counts().head(5)\n",
        "other_count = train_data['OSBuildNumber'].value_counts().iloc[5:].sum()\n",
        "\n",
        "top_10 = pd.concat([top_9, pd.Series({'Other': other_count})])\n",
        "top_10.plot(kind='barh', color='skyblue', edgecolor='black')\n",
        "\n",
        "plt.title('Distribution of OSBuildNumber')\n",
        "plt.ylabel('OSBuildNumber')\n",
        "plt.xlabel('Count')\n",
        "plt.xticks(rotation=45)\n",
        "plt.show()"
      ],
      "metadata": {
        "trusted": true,
        "execution": {
          "iopub.status.busy": "2025-03-20T11:24:25.019386Z",
          "iopub.execute_input": "2025-03-20T11:24:25.019692Z",
          "iopub.status.idle": "2025-03-20T11:24:25.220711Z",
          "shell.execute_reply.started": "2025-03-20T11:24:25.019668Z",
          "shell.execute_reply": "2025-03-20T11:24:25.219378Z"
        },
        "id": "khNJ_k_Q049w"
      },
      "outputs": [],
      "execution_count": null
    },
    {
      "cell_type": "markdown",
      "source": [
        "The feature OSBuildNumber can be considered over feature OSVersion"
      ],
      "metadata": {
        "id": "wnpaE8h4049y"
      }
    },
    {
      "cell_type": "code",
      "source": [
        "train_data['OSProductSuite'].value_counts()"
      ],
      "metadata": {
        "trusted": true,
        "execution": {
          "iopub.status.busy": "2025-03-20T11:24:25.221939Z",
          "iopub.execute_input": "2025-03-20T11:24:25.222412Z",
          "iopub.status.idle": "2025-03-20T11:24:25.23097Z",
          "shell.execute_reply.started": "2025-03-20T11:24:25.222327Z",
          "shell.execute_reply": "2025-03-20T11:24:25.229866Z"
        },
        "id": "DWH_HhxT049y"
      },
      "outputs": [],
      "execution_count": null
    },
    {
      "cell_type": "code",
      "source": [
        "train_data['OsPlatformSubRelease'].value_counts()"
      ],
      "metadata": {
        "trusted": true,
        "execution": {
          "iopub.status.busy": "2025-03-20T11:24:25.232168Z",
          "iopub.execute_input": "2025-03-20T11:24:25.232524Z",
          "iopub.status.idle": "2025-03-20T11:24:25.267185Z",
          "shell.execute_reply.started": "2025-03-20T11:24:25.232494Z",
          "shell.execute_reply": "2025-03-20T11:24:25.265902Z"
        },
        "id": "z1sOrJxW049z"
      },
      "outputs": [],
      "execution_count": null
    },
    {
      "cell_type": "code",
      "source": [
        "train_data['OsPlatformSubRelease'].value_counts().plot(kind='barh', color='skyblue', edgecolor='black')\n",
        "\n",
        "plt.title('Distribution of OsPlatformSubRelease')\n",
        "plt.ylabel('OsPlatformSubRelease')\n",
        "plt.xlabel('Count')\n",
        "plt.xticks(rotation=45)\n",
        "plt.show()"
      ],
      "metadata": {
        "trusted": true,
        "execution": {
          "iopub.status.busy": "2025-03-20T11:24:25.268291Z",
          "iopub.execute_input": "2025-03-20T11:24:25.26863Z",
          "iopub.status.idle": "2025-03-20T11:24:25.499892Z",
          "shell.execute_reply.started": "2025-03-20T11:24:25.268603Z",
          "shell.execute_reply": "2025-03-20T11:24:25.498553Z"
        },
        "id": "QTLi6EIY0490"
      },
      "outputs": [],
      "execution_count": null
    },
    {
      "cell_type": "markdown",
      "source": [
        "The feature OSPlatformSubRelease is well distributed and can be usefull"
      ],
      "metadata": {
        "id": "LfWr3PZF0492"
      }
    },
    {
      "cell_type": "markdown",
      "source": [
        "Similarly performing EDA for rest cols"
      ],
      "metadata": {
        "id": "P_q_Xjx60492"
      }
    },
    {
      "cell_type": "code",
      "source": [
        "#ploting a heat map\n",
        "numeric_type = train_data.select_dtypes(include=['float64', 'int64']).columns\n",
        "corr_matrix = train_data[numeric_type].corr()\n",
        "plt.figure(figsize=(50,30))\n",
        "sns.heatmap(corr_matrix, annot= True)"
      ],
      "metadata": {
        "trusted": true,
        "execution": {
          "iopub.status.busy": "2025-03-20T11:24:25.500886Z",
          "iopub.execute_input": "2025-03-20T11:24:25.501213Z",
          "iopub.status.idle": "2025-03-20T11:24:32.896623Z",
          "shell.execute_reply.started": "2025-03-20T11:24:25.501183Z",
          "shell.execute_reply": "2025-03-20T11:24:32.894781Z"
        },
        "id": "BmVcmwai0493"
      },
      "outputs": [],
      "execution_count": null
    },
    {
      "cell_type": "markdown",
      "source": [
        "From this feature heat map, we can see that many features have negative co relation with target variable. Since the features 'IsBetaUser', 'AutoSampleSubmissionEnabled', 'IsFlightDisabled' have only one unique value, we can see 3 white bars in the map."
      ],
      "metadata": {
        "id": "OCIx-lD90494"
      }
    },
    {
      "cell_type": "code",
      "source": [
        "X=train_data[[\"SystemVolumeCapacityMB\", \"OEMModelID\", \"CityID\", \"FirmwareVersionID\",\n",
        "    \"InternalBatteryNumberOfCharges\", \"AntivirusConfigID\", \"PrimaryDiskCapacityMB\",\n",
        "    \"ProcessorModelID\", \"TotalPhysicalRAMMB\", \"FirmwareManufacturerID\", \"IEVersionID\",\n",
        "    \"GeoRegionID\", \"OSBuildRevisionOnly\", \"LocaleEnglishNameID\", \"CountryID\",\n",
        "    \"OSBuildNumber\", \"OSUILocaleID\", \"IsSystemProtected\", \"IsGamer\",\n",
        "    \"SignatureVersion\", \"OSBuildLab\", \"OSVersion\", \"EngineVersion\",\n",
        "    \"LicenseActivationChannel\", \"OSGenuineState\"]]\n",
        "y=train_data['target']"
      ],
      "metadata": {
        "trusted": true,
        "execution": {
          "iopub.status.busy": "2025-03-20T11:24:33.037071Z",
          "iopub.status.idle": "2025-03-20T11:24:33.037459Z",
          "shell.execute_reply": "2025-03-20T11:24:33.037297Z"
        },
        "id": "LYh1w7ng0495"
      },
      "outputs": [],
      "execution_count": null
    },
    {
      "cell_type": "code",
      "source": [
        "X.info()"
      ],
      "metadata": {
        "trusted": true,
        "execution": {
          "iopub.status.busy": "2025-03-20T11:24:33.038573Z",
          "iopub.status.idle": "2025-03-20T11:24:33.039041Z",
          "shell.execute_reply": "2025-03-20T11:24:33.03885Z"
        },
        "id": "OYsas86w0496"
      },
      "outputs": [],
      "execution_count": null
    },
    {
      "cell_type": "code",
      "source": [
        "numerical_cols = [\n",
        "    \"SystemVolumeCapacityMB\", \"OEMModelID\", \"CityID\", \"FirmwareVersionID\",\n",
        "    \"InternalBatteryNumberOfCharges\", \"AntivirusConfigID\", \"PrimaryDiskCapacityMB\",\n",
        "    \"ProcessorModelID\", \"TotalPhysicalRAMMB\", \"FirmwareManufacturerID\", \"IEVersionID\",\n",
        "    \"GeoRegionID\", \"OSBuildRevisionOnly\", \"LocaleEnglishNameID\", \"CountryID\",\n",
        "    \"OSBuildNumber\", \"OSUILocaleID\", \"IsSystemProtected\", \"IsGamer\"\n",
        "]\n",
        "\n",
        "categorical_cols = [\n",
        "    \"SignatureVersion\", \"OSBuildLab\", \"OSVersion\", \"EngineVersion\",\n",
        "    \"LicenseActivationChannel\", \"OSGenuineState\"\n",
        "]"
      ],
      "metadata": {
        "trusted": true,
        "execution": {
          "iopub.status.busy": "2025-03-20T11:24:33.039711Z",
          "iopub.status.idle": "2025-03-20T11:24:33.04018Z",
          "shell.execute_reply": "2025-03-20T11:24:33.039986Z"
        },
        "id": "zZgywfU90497"
      },
      "outputs": [],
      "execution_count": null
    },
    {
      "cell_type": "markdown",
      "source": [
        "Splitting Dataset into Training and Validation Sets"
      ],
      "metadata": {
        "id": "w4xhqGRC0499"
      }
    },
    {
      "cell_type": "code",
      "source": [
        "from sklearn.model_selection import train_test_split\n",
        "X_train, X_val, y_train, y_val = train_test_split(X, y, test_size=0.2, random_state=42)"
      ],
      "metadata": {
        "trusted": true,
        "execution": {
          "iopub.status.busy": "2025-03-20T11:24:33.041087Z",
          "iopub.status.idle": "2025-03-20T11:24:33.041531Z",
          "shell.execute_reply": "2025-03-20T11:24:33.041384Z"
        },
        "id": "Tb2RCMof049-"
      },
      "outputs": [],
      "execution_count": null
    },
    {
      "cell_type": "code",
      "source": [
        "imp_most_frequent = SimpleImputer(missing_values=np.nan, strategy='most_frequent')"
      ],
      "metadata": {
        "trusted": true,
        "execution": {
          "iopub.status.busy": "2025-03-20T11:24:33.042482Z",
          "iopub.status.idle": "2025-03-20T11:24:33.042949Z",
          "shell.execute_reply": "2025-03-20T11:24:33.042742Z"
        },
        "id": "qF-Uawms049_"
      },
      "outputs": [],
      "execution_count": null
    },
    {
      "cell_type": "code",
      "source": [
        "X_train[numerical_cols]=imp_most_frequent.fit_transform(X_train[numerical_cols])\n",
        "X_val[numerical_cols]=imp_most_frequent.transform(X_val[numerical_cols])"
      ],
      "metadata": {
        "trusted": true,
        "execution": {
          "iopub.status.busy": "2025-03-20T11:24:33.043718Z",
          "iopub.status.idle": "2025-03-20T11:24:33.044049Z",
          "shell.execute_reply": "2025-03-20T11:24:33.04392Z"
        },
        "id": "F8yoqW0y04-A"
      },
      "outputs": [],
      "execution_count": null
    },
    {
      "cell_type": "code",
      "source": [
        "numerical_pipeline=Pipeline(steps=[(\"standardscaler\",StandardScaler())])\n",
        "categorical_pipeline = Pipeline(steps=[(\"onehot\",OneHotEncoder(handle_unknown='ignore'))])"
      ],
      "metadata": {
        "trusted": true,
        "execution": {
          "iopub.status.busy": "2025-03-20T11:24:33.045029Z",
          "iopub.status.idle": "2025-03-20T11:24:33.045369Z",
          "shell.execute_reply": "2025-03-20T11:24:33.0452Z"
        },
        "id": "xSbuUgtS04-B"
      },
      "outputs": [],
      "execution_count": null
    },
    {
      "cell_type": "code",
      "source": [
        "ct= ColumnTransformer(transformers=[('num',numerical_pipeline,numerical_cols),\n",
        "                                  ('cat',categorical_pipeline,categorical_cols)])"
      ],
      "metadata": {
        "trusted": true,
        "execution": {
          "iopub.status.busy": "2025-03-20T11:24:33.046159Z",
          "iopub.status.idle": "2025-03-20T11:24:33.046491Z",
          "shell.execute_reply": "2025-03-20T11:24:33.046323Z"
        },
        "id": "fCi8wSUz04-C"
      },
      "outputs": [],
      "execution_count": null
    },
    {
      "cell_type": "code",
      "source": [
        "X_train_transformed = ct.fit_transform(X_train)\n",
        "X_val_transformed = ct.transform(X_val)"
      ],
      "metadata": {
        "trusted": true,
        "execution": {
          "iopub.status.busy": "2025-03-20T11:24:33.04721Z",
          "iopub.status.idle": "2025-03-20T11:24:33.047581Z",
          "shell.execute_reply": "2025-03-20T11:24:33.047442Z"
        },
        "id": "zghl54xp04-G"
      },
      "outputs": [],
      "execution_count": null
    },
    {
      "cell_type": "markdown",
      "source": [
        "# Models"
      ],
      "metadata": {
        "id": "cE-kxa8704-G"
      }
    },
    {
      "cell_type": "markdown",
      "source": [
        "A simple **Logistic Regression** model\n",
        "* build during intial days of the project, as a baseline or dummy model. (Model 1)"
      ],
      "metadata": {
        "id": "aVzy_8Y204-H"
      }
    },
    {
      "cell_type": "code",
      "source": [
        "model = LogisticRegression(random_state=42, max_iter=200,solver='liblinear', C=1.0)\n",
        "model.fit(X_train_transformed, y_train)\n",
        "y_pred = model.predict(X_val_transformed)\n",
        "accuracy = accuracy_score(y_val, y_pred)\n",
        "print(f'Baseline Model Accuracy: {accuracy:.4f}')"
      ],
      "metadata": {
        "trusted": true,
        "execution": {
          "iopub.status.busy": "2025-03-20T11:24:33.048665Z",
          "iopub.status.idle": "2025-03-20T11:24:33.048991Z",
          "shell.execute_reply": "2025-03-20T11:24:33.048864Z"
        },
        "id": "xFu1W5y704-I"
      },
      "outputs": [],
      "execution_count": null
    },
    {
      "cell_type": "markdown",
      "source": [
        "**RidgeClassifier** (model 2)"
      ],
      "metadata": {
        "id": "LMWfRbt704-I"
      }
    },
    {
      "cell_type": "code",
      "source": [
        "ridge_model = RidgeClassifier(alpha=1.0)\n",
        "ridge_model.fit(X_train_transformed, y_train)\n",
        "y_pred = ridge_model.predict(X_val_transformed)\n",
        "accuracy = accuracy_score(y_val, y_pred)\n",
        "print(f'Ridge Classifier Accuracy: {accuracy:.4f}')\n"
      ],
      "metadata": {
        "trusted": true,
        "execution": {
          "iopub.status.busy": "2025-03-20T11:24:33.050051Z",
          "iopub.status.idle": "2025-03-20T11:24:33.050496Z",
          "shell.execute_reply": "2025-03-20T11:24:33.050306Z"
        },
        "id": "8SoSWkNk04-J"
      },
      "outputs": [],
      "execution_count": null
    },
    {
      "cell_type": "markdown",
      "source": [
        "**SGD Classifier** (Model 3)\n",
        "* The Stochastic Gradient Descent Classifier with hyperparameter tuning.  "
      ],
      "metadata": {
        "id": "aopwBQpO04-J"
      }
    },
    {
      "cell_type": "code",
      "source": [
        "param_dist = {\n",
        "    'loss': ['log_loss', 'hinge', 'squared_hinge'],\n",
        "    'alpha': [0.0001, 0.001, 0.01, 0.1],\n",
        "    'penalty': ['l2', 'l1', 'elasticnet'],\n",
        "    'learning_rate': ['constant', 'optimal', 'invscaling', 'adaptive'],\n",
        "    'eta0': [0.001, 0.01, 0.1]\n",
        "}\n",
        "sgd_model = SGDClassifier(random_state=42)\n",
        "random_search = RandomizedSearchCV(\n",
        "    estimator=sgd_model,\n",
        "    param_distributions=param_dist,\n",
        "    n_iter=20,\n",
        "    cv=3,\n",
        "    n_jobs=-1,\n",
        "    verbose=1,\n",
        "    random_state=42\n",
        ")\n",
        "random_search.fit(X_train_transformed, y_train)\n",
        "print(f\"Best Parameters: {random_search.best_params_}\")\n",
        "best_model = random_search.best_estimator_\n",
        "y_pred = best_model.predict(X_val_transformed)\n",
        "accuracy = accuracy_score(y_val, y_pred)\n",
        "print(f'Best SGD Model Accuracy: {accuracy:.4f}')\n"
      ],
      "metadata": {
        "trusted": true,
        "execution": {
          "iopub.status.busy": "2025-03-20T11:24:33.051205Z",
          "iopub.status.idle": "2025-03-20T11:24:33.051547Z",
          "shell.execute_reply": "2025-03-20T11:24:33.051414Z"
        },
        "id": "1ArjFi4j04-K"
      },
      "outputs": [],
      "execution_count": null
    },
    {
      "cell_type": "markdown",
      "source": [
        "**RandomForestClassifier** (Model 4)\n",
        "* Random Forest classifier with hyperparameter tuning.  "
      ],
      "metadata": {
        "id": "JNKqDKhq04-L"
      }
    },
    {
      "cell_type": "code",
      "source": [
        "rf = RandomForestClassifier(random_state=42, n_jobs=-1)\n",
        "param_dist = {\n",
        "    'n_estimators': np.arange(100, 301, 100),\n",
        "    'max_depth': [10, 20, None],\n",
        "    'min_samples_split': [2, 5, 10],\n",
        "    'min_samples_leaf': [1, 2, 4]\n",
        "}\n",
        "random_search = RandomizedSearchCV(\n",
        "    rf,\n",
        "    param_distributions=param_dist,\n",
        "    n_iter=10,\n",
        "    cv=2,\n",
        "    verbose=2,\n",
        "    n_jobs=-1,\n",
        "    random_state=42\n",
        ")\n",
        "random_search.fit(X_train_transformed, y_train)\n",
        "best_rf = random_search.best_estimator_\n",
        "y_pred = best_rf.predict(X_val_transformed)\n",
        "accuracy = accuracy_score(y_val, y_pred)\n",
        "print(f'Tuned Random Forest Model Accuracy: {accuracy:.4f}')\n",
        "print(f'Best Parameters: {random_search.best_params_}')\n"
      ],
      "metadata": {
        "trusted": true,
        "execution": {
          "iopub.status.busy": "2025-03-20T11:24:33.052378Z",
          "iopub.status.idle": "2025-03-20T11:24:33.052718Z",
          "shell.execute_reply": "2025-03-20T11:24:33.052593Z"
        },
        "id": "xQgA00h904-N"
      },
      "outputs": [],
      "execution_count": null
    },
    {
      "cell_type": "markdown",
      "source": [
        "**LightGBM  Classifier** (Model 5)\n",
        "* LGBM with GBDT as the boosting type"
      ],
      "metadata": {
        "id": "p0ubj8Pg04-P"
      }
    },
    {
      "cell_type": "code",
      "source": [
        "lgbm = lgb.LGBMClassifier(boosting_type='gbdt', objective='binary', random_state=42)\n",
        "param_dist = {\n",
        "    'num_leaves': [20, 31, 40],\n",
        "    'learning_rate': [0.01, 0.05, 0.1],\n",
        "    'n_estimators': [100, 300],\n",
        "    'max_depth': [-1, 5, 10]\n",
        "}\n",
        "random_search = RandomizedSearchCV(\n",
        "    estimator=lgbm,\n",
        "    param_distributions=param_dist,\n",
        "    n_iter=10,\n",
        "    cv=2,\n",
        "    scoring='accuracy',\n",
        "    n_jobs=-1,\n",
        "    verbose=1,\n",
        "    random_state=42\n",
        ")\n",
        "random_search.fit(X_train_transformed, y_train)\n",
        "best_lgbm = random_search.best_estimator_\n",
        "y_pred_lgbm = best_lgbm.predict(X_val_transformed)\n",
        "accuracy_lgbm = accuracy_score(y_val, y_pred_lgbm)\n",
        "print(f'LightGBM Model Accuracy: {accuracy_lgbm:.4f}')\n",
        "print(f'Best Parameters: {random_search.best_params_}')\n"
      ],
      "metadata": {
        "trusted": true,
        "execution": {
          "iopub.status.busy": "2025-03-20T11:24:33.05348Z",
          "iopub.status.idle": "2025-03-20T11:24:33.053844Z",
          "shell.execute_reply": "2025-03-20T11:24:33.05367Z"
        },
        "id": "c59Cjh9K04-P"
      },
      "outputs": [],
      "execution_count": null
    },
    {
      "cell_type": "markdown",
      "source": [
        "**Decision Tree Classifier** (Model 6)"
      ],
      "metadata": {
        "id": "d9NJNIMq04-Q"
      }
    },
    {
      "cell_type": "code",
      "source": [
        "param_dist = {\n",
        "    'criterion': ['gini', 'entropy'],\n",
        "    'max_depth': [3, 5, 10, None],\n",
        "    'min_samples_split': np.arange(2, 20, 2),\n",
        "    'min_samples_leaf': np.arange(1, 10, 2)\n",
        "}\n",
        "dt = DecisionTreeClassifier(random_state=42)\n",
        "random_search = RandomizedSearchCV(dt, param_distributions=param_dist,\n",
        "                                   n_iter=20, cv=5, scoring='accuracy',\n",
        "                                   random_state=42, n_jobs=-1)\n",
        "random_search.fit(X_train_transformed, y_train)\n",
        "best_dt = random_search.best_estimator_\n",
        "y_pred = best_dt.predict(X_val_transformed)\n",
        "accuracy = accuracy_score(y_val, y_pred)\n",
        "print(f'Optimized Decision Tree Accuracy: {accuracy:.4f}')\n",
        "print(f'Best Parameters: {random_search.best_params_}')\n"
      ],
      "metadata": {
        "trusted": true,
        "execution": {
          "iopub.status.busy": "2025-03-20T11:24:33.055231Z",
          "iopub.status.idle": "2025-03-20T11:24:33.055608Z",
          "shell.execute_reply": "2025-03-20T11:24:33.055478Z"
        },
        "id": "1K6q_kXc04-R"
      },
      "outputs": [],
      "execution_count": null
    },
    {
      "cell_type": "markdown",
      "source": [
        "# Ensemble Models"
      ],
      "metadata": {
        "id": "8Fk1WlFO04-S"
      }
    },
    {
      "cell_type": "markdown",
      "source": [
        "**Stacking Classifier** with Logistic regression as meta model and best models of Random Forest, LightGBM and decision tree as base models."
      ],
      "metadata": {
        "id": "WX5xTOdf04-T"
      }
    },
    {
      "cell_type": "code",
      "source": [
        "base_models = [\n",
        "    ('random_forest', best_rf),\n",
        "    ('lightgbm', best_lgbm),\n",
        "    ('decision_tree', best_dt)\n",
        "]\n",
        "meta_model = LogisticRegression(max_iter=200, solver='liblinear')\n",
        "stacking_model = StackingClassifier(\n",
        "    estimators=base_models,\n",
        "    final_estimator=meta_model,\n",
        "    n_jobs=-1\n",
        ")\n",
        "stacking_model.fit(X_train_transformed, y_train)\n",
        "y_pred = stacking_model.predict(X_val_transformed)\n",
        "stacking_accuracy = accuracy_score(y_val, y_pred)\n",
        "print(f'Stacking Model Accuracy: {stacking_accuracy:.4f}')\n"
      ],
      "metadata": {
        "trusted": true,
        "execution": {
          "iopub.status.busy": "2025-03-20T11:24:33.057032Z",
          "iopub.status.idle": "2025-03-20T11:24:33.057582Z",
          "shell.execute_reply": "2025-03-20T11:24:33.057376Z"
        },
        "id": "2iFiyuAC04-U"
      },
      "outputs": [],
      "execution_count": null
    },
    {
      "cell_type": "markdown",
      "source": [
        "**Voting Classifier** to combine prediction from best models of Random Forest, LightGBM and decision tree."
      ],
      "metadata": {
        "id": "53dcUliy04-V"
      }
    },
    {
      "cell_type": "code",
      "source": [
        "voting_model = VotingClassifier(estimators=[\n",
        "    ('random_forest', best_rf),\n",
        "    ('lightgbm', best_lgbm),\n",
        "    ('decision_tree', best_dt)\n",
        "], voting='hard')\n",
        "\n",
        "voting_model.fit(X_train_transformed, y_train)\n",
        "y_pred = voting_model.predict(X_val_transformed)\n",
        "accuracy = accuracy_score(y_val, y_pred)\n",
        "print(f'Voting Classifier Accuracy: {accuracy:.4f}')\n"
      ],
      "metadata": {
        "trusted": true,
        "execution": {
          "iopub.status.busy": "2025-03-20T11:24:33.058565Z",
          "iopub.status.idle": "2025-03-20T11:24:33.058919Z",
          "shell.execute_reply": "2025-03-20T11:24:33.058766Z"
        },
        "id": "nn7SXLA004-W"
      },
      "outputs": [],
      "execution_count": null
    },
    {
      "cell_type": "markdown",
      "source": [
        "# Test Dataset"
      ],
      "metadata": {
        "id": "jlyI5gVZ04-W"
      }
    },
    {
      "cell_type": "code",
      "source": [
        "test_data[numerical_cols]=imp_most_frequent.transform(test_data[numerical_cols])"
      ],
      "metadata": {
        "trusted": true,
        "execution": {
          "iopub.status.busy": "2025-03-20T11:24:33.060095Z",
          "iopub.status.idle": "2025-03-20T11:24:33.060512Z",
          "shell.execute_reply": "2025-03-20T11:24:33.060322Z"
        },
        "id": "LLoUHfhH04-W"
      },
      "outputs": [],
      "execution_count": null
    },
    {
      "cell_type": "code",
      "source": [
        "X_test=test_data[[\"SystemVolumeCapacityMB\", \"OEMModelID\", \"CityID\", \"FirmwareVersionID\",\n",
        "    \"InternalBatteryNumberOfCharges\", \"AntivirusConfigID\", \"PrimaryDiskCapacityMB\",\n",
        "    \"ProcessorModelID\", \"TotalPhysicalRAMMB\", \"FirmwareManufacturerID\", \"IEVersionID\",\n",
        "    \"GeoRegionID\", \"OSBuildRevisionOnly\", \"LocaleEnglishNameID\", \"CountryID\",\n",
        "    \"OSBuildNumber\", \"OSUILocaleID\", \"IsSystemProtected\", \"IsGamer\",\n",
        "    \"SignatureVersion\", \"OSBuildLab\", \"OSVersion\", \"EngineVersion\",\n",
        "    \"LicenseActivationChannel\", \"OSGenuineState\"]]"
      ],
      "metadata": {
        "trusted": true,
        "execution": {
          "iopub.status.busy": "2025-03-20T11:24:33.06119Z",
          "iopub.status.idle": "2025-03-20T11:24:33.06151Z",
          "shell.execute_reply": "2025-03-20T11:24:33.061373Z"
        },
        "id": "v-k4Q6GO04-X"
      },
      "outputs": [],
      "execution_count": null
    },
    {
      "cell_type": "code",
      "source": [
        "X_test_processed=ct.transform(X_test)"
      ],
      "metadata": {
        "trusted": true,
        "execution": {
          "iopub.status.busy": "2025-03-20T11:24:33.062479Z",
          "iopub.status.idle": "2025-03-20T11:24:33.062881Z",
          "shell.execute_reply": "2025-03-20T11:24:33.062732Z"
        },
        "id": "Z9gjhZte04-Y"
      },
      "outputs": [],
      "execution_count": null
    },
    {
      "cell_type": "code",
      "source": [
        "y_pred_submission=voting_model.predict(X_test_processed)"
      ],
      "metadata": {
        "trusted": true,
        "execution": {
          "iopub.status.busy": "2025-03-20T11:24:33.063609Z",
          "iopub.status.idle": "2025-03-20T11:24:33.063964Z",
          "shell.execute_reply": "2025-03-20T11:24:33.063836Z"
        },
        "id": "pOWZXS5U04-Z"
      },
      "outputs": [],
      "execution_count": null
    },
    {
      "cell_type": "markdown",
      "source": [
        "# Submission"
      ],
      "metadata": {
        "id": "aRt7l2Cp04-Z"
      }
    },
    {
      "cell_type": "code",
      "source": [
        "sub=pd.DataFrame({\"id\": range(0,test_data.shape[0]),\n",
        "                              \"target\": y_pred_submission})\n",
        "sub.to_csv('submission.csv',index=False)"
      ],
      "metadata": {
        "trusted": true,
        "execution": {
          "iopub.status.busy": "2025-03-20T11:24:33.06472Z",
          "iopub.status.idle": "2025-03-20T11:24:33.065009Z",
          "shell.execute_reply": "2025-03-20T11:24:33.064896Z"
        },
        "id": "32SMaJcW04-a"
      },
      "outputs": [],
      "execution_count": null
    },
    {
      "cell_type": "markdown",
      "source": [
        "#"
      ],
      "metadata": {
        "id": "d-b11RDl04-b"
      }
    }
  ]
}